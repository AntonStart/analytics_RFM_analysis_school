{
 "cells": [
  {
   "cell_type": "markdown",
   "metadata": {},
   "source": [
    "#### Импорт необходимых библиотек"
   ]
  },
  {
   "cell_type": "code",
   "execution_count": 1,
   "metadata": {},
   "outputs": [],
   "source": [
    "import pandas as pd\n",
    "import seaborn as sns\n",
    "import numpy as np\n",
    "import math"
   ]
  },
  {
   "cell_type": "markdown",
   "metadata": {},
   "source": [
    "#### Подгрузим исходные данные"
   ]
  },
  {
   "cell_type": "code",
   "execution_count": 2,
   "metadata": {},
   "outputs": [],
   "source": [
    "assessments = pd.read_csv(\n",
    "    '/mnt/HC_Volume_18315164/home-jupyter/jupyter-a-pozdniakov/first_project_a-pozdniakov/assessments.csv')\n",
    "\n",
    "courses = pd.read_csv(\n",
    "    '/mnt/HC_Volume_18315164/home-jupyter/jupyter-a-pozdniakov/first_project_a-pozdniakov/courses.csv')\n",
    "\n",
    "student_assessments = pd.read_csv(\n",
    "    '/mnt/HC_Volume_18315164/home-jupyter/jupyter-a-pozdniakov/first_project_a-pozdniakov/studentAssessment.csv')\n",
    "\n",
    "student_reg = pd.read_csv(\n",
    "    '/mnt/HC_Volume_18315164/home-jupyter/jupyter-a-pozdniakov/first_project_a-pozdniakov/studentRegistration.csv')"
   ]
  },
  {
   "cell_type": "markdown",
   "metadata": {},
   "source": [
    "## 0) Анализ исходных данных\n",
    "\n",
    "последовательно проанализируем исходные данные и сделаем предварительные выводы\n",
    "\n",
    "Сначала посмотрим на таблицу assessments, и проверим на наличие пропущенных значений"
   ]
  },
  {
   "cell_type": "code",
   "execution_count": 3,
   "metadata": {},
   "outputs": [
    {
     "name": "stdout",
     "output_type": "stream",
     "text": [
      "  code_module code_presentation  id_assessment assessment_type   date  weight\n",
      "0         AAA             2013J           1752             TMA   19.0    10.0\n",
      "1         AAA             2013J           1753             TMA   54.0    20.0\n",
      "2         AAA             2013J           1754             TMA  117.0    20.0\n",
      "3         AAA             2013J           1755             TMA  166.0    20.0\n",
      "4         AAA             2013J           1756             TMA  215.0    30.0 \n",
      "\n",
      "code_module           0\n",
      "code_presentation     0\n",
      "id_assessment         0\n",
      "assessment_type       0\n",
      "date                 11\n",
      "weight                0\n",
      "dtype: int64 \n",
      "\n"
     ]
    }
   ],
   "source": [
    "print(assessments.head(), '\\n')\n",
    "print(assessments.isna().sum(), '\\n')"
   ]
  },
  {
   "cell_type": "markdown",
   "metadata": {},
   "source": [
    "В поле date пропущена информация о дедлайнах, стало понятно(после рецензии проверяющего), что в текущей ситуации, предельный\n",
    "срок сдачи экзамена неопределен, соответственно в будующем следует это учесть \n",
    "\n",
    "Посмотрим на количество уникальных элементов по полям"
   ]
  },
  {
   "cell_type": "code",
   "execution_count": 4,
   "metadata": {},
   "outputs": [
    {
     "data": {
      "text/plain": [
       "code_module            7\n",
       "code_presentation      4\n",
       "id_assessment        206\n",
       "assessment_type        3\n",
       "date                  74\n",
       "weight                24\n",
       "dtype: int64"
      ]
     },
     "execution_count": 4,
     "metadata": {},
     "output_type": "execute_result"
    }
   ],
   "source": [
    "assessments.nunique()"
   ]
  },
  {
   "cell_type": "markdown",
   "metadata": {},
   "source": [
    "Сгруппируем данные по модулю и семестру и посчитаем количество тестов/экзаменов по каждому модулю"
   ]
  },
  {
   "cell_type": "code",
   "execution_count": 5,
   "metadata": {},
   "outputs": [
    {
     "data": {
      "text/html": [
       "<div>\n",
       "<style scoped>\n",
       "    .dataframe tbody tr th:only-of-type {\n",
       "        vertical-align: middle;\n",
       "    }\n",
       "\n",
       "    .dataframe tbody tr th {\n",
       "        vertical-align: top;\n",
       "    }\n",
       "\n",
       "    .dataframe thead th {\n",
       "        text-align: right;\n",
       "    }\n",
       "</style>\n",
       "<table border=\"1\" class=\"dataframe\">\n",
       "  <thead>\n",
       "    <tr style=\"text-align: right;\">\n",
       "      <th></th>\n",
       "      <th>code_module</th>\n",
       "      <th>code_presentation</th>\n",
       "      <th>id_assessment</th>\n",
       "    </tr>\n",
       "  </thead>\n",
       "  <tbody>\n",
       "    <tr>\n",
       "      <th>0</th>\n",
       "      <td>AAA</td>\n",
       "      <td>2013J</td>\n",
       "      <td>6</td>\n",
       "    </tr>\n",
       "    <tr>\n",
       "      <th>1</th>\n",
       "      <td>AAA</td>\n",
       "      <td>2014J</td>\n",
       "      <td>6</td>\n",
       "    </tr>\n",
       "    <tr>\n",
       "      <th>2</th>\n",
       "      <td>BBB</td>\n",
       "      <td>2013B</td>\n",
       "      <td>12</td>\n",
       "    </tr>\n",
       "    <tr>\n",
       "      <th>3</th>\n",
       "      <td>BBB</td>\n",
       "      <td>2013J</td>\n",
       "      <td>12</td>\n",
       "    </tr>\n",
       "    <tr>\n",
       "      <th>4</th>\n",
       "      <td>BBB</td>\n",
       "      <td>2014B</td>\n",
       "      <td>12</td>\n",
       "    </tr>\n",
       "    <tr>\n",
       "      <th>5</th>\n",
       "      <td>BBB</td>\n",
       "      <td>2014J</td>\n",
       "      <td>6</td>\n",
       "    </tr>\n",
       "    <tr>\n",
       "      <th>6</th>\n",
       "      <td>CCC</td>\n",
       "      <td>2014B</td>\n",
       "      <td>10</td>\n",
       "    </tr>\n",
       "    <tr>\n",
       "      <th>7</th>\n",
       "      <td>CCC</td>\n",
       "      <td>2014J</td>\n",
       "      <td>10</td>\n",
       "    </tr>\n",
       "    <tr>\n",
       "      <th>8</th>\n",
       "      <td>DDD</td>\n",
       "      <td>2013B</td>\n",
       "      <td>14</td>\n",
       "    </tr>\n",
       "    <tr>\n",
       "      <th>9</th>\n",
       "      <td>DDD</td>\n",
       "      <td>2013J</td>\n",
       "      <td>7</td>\n",
       "    </tr>\n",
       "    <tr>\n",
       "      <th>10</th>\n",
       "      <td>DDD</td>\n",
       "      <td>2014B</td>\n",
       "      <td>7</td>\n",
       "    </tr>\n",
       "    <tr>\n",
       "      <th>11</th>\n",
       "      <td>DDD</td>\n",
       "      <td>2014J</td>\n",
       "      <td>7</td>\n",
       "    </tr>\n",
       "    <tr>\n",
       "      <th>12</th>\n",
       "      <td>EEE</td>\n",
       "      <td>2013J</td>\n",
       "      <td>5</td>\n",
       "    </tr>\n",
       "    <tr>\n",
       "      <th>13</th>\n",
       "      <td>EEE</td>\n",
       "      <td>2014B</td>\n",
       "      <td>5</td>\n",
       "    </tr>\n",
       "    <tr>\n",
       "      <th>14</th>\n",
       "      <td>EEE</td>\n",
       "      <td>2014J</td>\n",
       "      <td>5</td>\n",
       "    </tr>\n",
       "    <tr>\n",
       "      <th>15</th>\n",
       "      <td>FFF</td>\n",
       "      <td>2013B</td>\n",
       "      <td>13</td>\n",
       "    </tr>\n",
       "    <tr>\n",
       "      <th>16</th>\n",
       "      <td>FFF</td>\n",
       "      <td>2013J</td>\n",
       "      <td>13</td>\n",
       "    </tr>\n",
       "    <tr>\n",
       "      <th>17</th>\n",
       "      <td>FFF</td>\n",
       "      <td>2014B</td>\n",
       "      <td>13</td>\n",
       "    </tr>\n",
       "    <tr>\n",
       "      <th>18</th>\n",
       "      <td>FFF</td>\n",
       "      <td>2014J</td>\n",
       "      <td>13</td>\n",
       "    </tr>\n",
       "    <tr>\n",
       "      <th>19</th>\n",
       "      <td>GGG</td>\n",
       "      <td>2013J</td>\n",
       "      <td>10</td>\n",
       "    </tr>\n",
       "    <tr>\n",
       "      <th>20</th>\n",
       "      <td>GGG</td>\n",
       "      <td>2014B</td>\n",
       "      <td>10</td>\n",
       "    </tr>\n",
       "    <tr>\n",
       "      <th>21</th>\n",
       "      <td>GGG</td>\n",
       "      <td>2014J</td>\n",
       "      <td>10</td>\n",
       "    </tr>\n",
       "  </tbody>\n",
       "</table>\n",
       "</div>"
      ],
      "text/plain": [
       "   code_module code_presentation  id_assessment\n",
       "0          AAA             2013J              6\n",
       "1          AAA             2014J              6\n",
       "2          BBB             2013B             12\n",
       "3          BBB             2013J             12\n",
       "4          BBB             2014B             12\n",
       "5          BBB             2014J              6\n",
       "6          CCC             2014B             10\n",
       "7          CCC             2014J             10\n",
       "8          DDD             2013B             14\n",
       "9          DDD             2013J              7\n",
       "10         DDD             2014B              7\n",
       "11         DDD             2014J              7\n",
       "12         EEE             2013J              5\n",
       "13         EEE             2014B              5\n",
       "14         EEE             2014J              5\n",
       "15         FFF             2013B             13\n",
       "16         FFF             2013J             13\n",
       "17         FFF             2014B             13\n",
       "18         FFF             2014J             13\n",
       "19         GGG             2013J             10\n",
       "20         GGG             2014B             10\n",
       "21         GGG             2014J             10"
      ]
     },
     "execution_count": 5,
     "metadata": {},
     "output_type": "execute_result"
    }
   ],
   "source": [
    "assessments.groupby(['code_module', 'code_presentation'], as_index = False) \\\n",
    "           .agg({'id_assessment': 'count'})"
   ]
  },
  {
   "cell_type": "markdown",
   "metadata": {},
   "source": [
    "Проверим, все ли модули оканчиваются экзаменом"
   ]
  },
  {
   "cell_type": "code",
   "execution_count": 15,
   "metadata": {},
   "outputs": [
    {
     "data": {
      "text/html": [
       "<div>\n",
       "<style scoped>\n",
       "    .dataframe tbody tr th:only-of-type {\n",
       "        vertical-align: middle;\n",
       "    }\n",
       "\n",
       "    .dataframe tbody tr th {\n",
       "        vertical-align: top;\n",
       "    }\n",
       "\n",
       "    .dataframe thead th {\n",
       "        text-align: right;\n",
       "    }\n",
       "</style>\n",
       "<table border=\"1\" class=\"dataframe\">\n",
       "  <thead>\n",
       "    <tr style=\"text-align: right;\">\n",
       "      <th></th>\n",
       "      <th>code_module</th>\n",
       "      <th>code_presentation</th>\n",
       "      <th>id_assessment</th>\n",
       "      <th>assessment_type</th>\n",
       "      <th>date</th>\n",
       "      <th>weight</th>\n",
       "    </tr>\n",
       "  </thead>\n",
       "  <tbody>\n",
       "    <tr>\n",
       "      <th>54</th>\n",
       "      <td>CCC</td>\n",
       "      <td>2014B</td>\n",
       "      <td>24286</td>\n",
       "      <td>CMA</td>\n",
       "      <td>18.0</td>\n",
       "      <td>2.0</td>\n",
       "    </tr>\n",
       "    <tr>\n",
       "      <th>55</th>\n",
       "      <td>CCC</td>\n",
       "      <td>2014B</td>\n",
       "      <td>24287</td>\n",
       "      <td>CMA</td>\n",
       "      <td>67.0</td>\n",
       "      <td>7.0</td>\n",
       "    </tr>\n",
       "    <tr>\n",
       "      <th>56</th>\n",
       "      <td>CCC</td>\n",
       "      <td>2014B</td>\n",
       "      <td>24288</td>\n",
       "      <td>CMA</td>\n",
       "      <td>137.0</td>\n",
       "      <td>8.0</td>\n",
       "    </tr>\n",
       "    <tr>\n",
       "      <th>57</th>\n",
       "      <td>CCC</td>\n",
       "      <td>2014B</td>\n",
       "      <td>24289</td>\n",
       "      <td>CMA</td>\n",
       "      <td>207.0</td>\n",
       "      <td>8.0</td>\n",
       "    </tr>\n",
       "    <tr>\n",
       "      <th>58</th>\n",
       "      <td>CCC</td>\n",
       "      <td>2014B</td>\n",
       "      <td>24282</td>\n",
       "      <td>TMA</td>\n",
       "      <td>32.0</td>\n",
       "      <td>9.0</td>\n",
       "    </tr>\n",
       "    <tr>\n",
       "      <th>59</th>\n",
       "      <td>CCC</td>\n",
       "      <td>2014B</td>\n",
       "      <td>24283</td>\n",
       "      <td>TMA</td>\n",
       "      <td>102.0</td>\n",
       "      <td>22.0</td>\n",
       "    </tr>\n",
       "    <tr>\n",
       "      <th>60</th>\n",
       "      <td>CCC</td>\n",
       "      <td>2014B</td>\n",
       "      <td>24284</td>\n",
       "      <td>TMA</td>\n",
       "      <td>151.0</td>\n",
       "      <td>22.0</td>\n",
       "    </tr>\n",
       "    <tr>\n",
       "      <th>61</th>\n",
       "      <td>CCC</td>\n",
       "      <td>2014B</td>\n",
       "      <td>24285</td>\n",
       "      <td>TMA</td>\n",
       "      <td>200.0</td>\n",
       "      <td>22.0</td>\n",
       "    </tr>\n",
       "    <tr>\n",
       "      <th>62</th>\n",
       "      <td>CCC</td>\n",
       "      <td>2014B</td>\n",
       "      <td>24290</td>\n",
       "      <td>Exam</td>\n",
       "      <td>NaN</td>\n",
       "      <td>100.0</td>\n",
       "    </tr>\n",
       "    <tr>\n",
       "      <th>63</th>\n",
       "      <td>CCC</td>\n",
       "      <td>2014B</td>\n",
       "      <td>40087</td>\n",
       "      <td>Exam</td>\n",
       "      <td>NaN</td>\n",
       "      <td>100.0</td>\n",
       "    </tr>\n",
       "    <tr>\n",
       "      <th>64</th>\n",
       "      <td>CCC</td>\n",
       "      <td>2014J</td>\n",
       "      <td>24295</td>\n",
       "      <td>CMA</td>\n",
       "      <td>18.0</td>\n",
       "      <td>2.0</td>\n",
       "    </tr>\n",
       "    <tr>\n",
       "      <th>65</th>\n",
       "      <td>CCC</td>\n",
       "      <td>2014J</td>\n",
       "      <td>24296</td>\n",
       "      <td>CMA</td>\n",
       "      <td>67.0</td>\n",
       "      <td>7.0</td>\n",
       "    </tr>\n",
       "    <tr>\n",
       "      <th>66</th>\n",
       "      <td>CCC</td>\n",
       "      <td>2014J</td>\n",
       "      <td>24297</td>\n",
       "      <td>CMA</td>\n",
       "      <td>144.0</td>\n",
       "      <td>8.0</td>\n",
       "    </tr>\n",
       "    <tr>\n",
       "      <th>67</th>\n",
       "      <td>CCC</td>\n",
       "      <td>2014J</td>\n",
       "      <td>24298</td>\n",
       "      <td>CMA</td>\n",
       "      <td>214.0</td>\n",
       "      <td>8.0</td>\n",
       "    </tr>\n",
       "    <tr>\n",
       "      <th>68</th>\n",
       "      <td>CCC</td>\n",
       "      <td>2014J</td>\n",
       "      <td>24291</td>\n",
       "      <td>TMA</td>\n",
       "      <td>32.0</td>\n",
       "      <td>9.0</td>\n",
       "    </tr>\n",
       "    <tr>\n",
       "      <th>69</th>\n",
       "      <td>CCC</td>\n",
       "      <td>2014J</td>\n",
       "      <td>24292</td>\n",
       "      <td>TMA</td>\n",
       "      <td>109.0</td>\n",
       "      <td>22.0</td>\n",
       "    </tr>\n",
       "    <tr>\n",
       "      <th>70</th>\n",
       "      <td>CCC</td>\n",
       "      <td>2014J</td>\n",
       "      <td>24293</td>\n",
       "      <td>TMA</td>\n",
       "      <td>158.0</td>\n",
       "      <td>22.0</td>\n",
       "    </tr>\n",
       "    <tr>\n",
       "      <th>71</th>\n",
       "      <td>CCC</td>\n",
       "      <td>2014J</td>\n",
       "      <td>24294</td>\n",
       "      <td>TMA</td>\n",
       "      <td>207.0</td>\n",
       "      <td>22.0</td>\n",
       "    </tr>\n",
       "    <tr>\n",
       "      <th>72</th>\n",
       "      <td>CCC</td>\n",
       "      <td>2014J</td>\n",
       "      <td>24299</td>\n",
       "      <td>Exam</td>\n",
       "      <td>NaN</td>\n",
       "      <td>100.0</td>\n",
       "    </tr>\n",
       "    <tr>\n",
       "      <th>73</th>\n",
       "      <td>CCC</td>\n",
       "      <td>2014J</td>\n",
       "      <td>40088</td>\n",
       "      <td>Exam</td>\n",
       "      <td>NaN</td>\n",
       "      <td>100.0</td>\n",
       "    </tr>\n",
       "  </tbody>\n",
       "</table>\n",
       "</div>"
      ],
      "text/plain": [
       "   code_module code_presentation  id_assessment assessment_type   date  weight\n",
       "54         CCC             2014B          24286             CMA   18.0     2.0\n",
       "55         CCC             2014B          24287             CMA   67.0     7.0\n",
       "56         CCC             2014B          24288             CMA  137.0     8.0\n",
       "57         CCC             2014B          24289             CMA  207.0     8.0\n",
       "58         CCC             2014B          24282             TMA   32.0     9.0\n",
       "59         CCC             2014B          24283             TMA  102.0    22.0\n",
       "60         CCC             2014B          24284             TMA  151.0    22.0\n",
       "61         CCC             2014B          24285             TMA  200.0    22.0\n",
       "62         CCC             2014B          24290            Exam    NaN   100.0\n",
       "63         CCC             2014B          40087            Exam    NaN   100.0\n",
       "64         CCC             2014J          24295             CMA   18.0     2.0\n",
       "65         CCC             2014J          24296             CMA   67.0     7.0\n",
       "66         CCC             2014J          24297             CMA  144.0     8.0\n",
       "67         CCC             2014J          24298             CMA  214.0     8.0\n",
       "68         CCC             2014J          24291             TMA   32.0     9.0\n",
       "69         CCC             2014J          24292             TMA  109.0    22.0\n",
       "70         CCC             2014J          24293             TMA  158.0    22.0\n",
       "71         CCC             2014J          24294             TMA  207.0    22.0\n",
       "72         CCC             2014J          24299            Exam    NaN   100.0\n",
       "73         CCC             2014J          40088            Exam    NaN   100.0"
      ]
     },
     "execution_count": 15,
     "metadata": {},
     "output_type": "execute_result"
    }
   ],
   "source": [
    "assessments[assessments.assessment_type == \"Exam\"] \\\n",
    "            .groupby(['code_module', 'code_presentation'], \n",
    "                     as_index = False) \\\n",
    "            .agg({'id_assessment': 'count'})"
   ]
  },
  {
   "cell_type": "markdown",
   "metadata": {},
   "source": [
    "Выводы:\n",
    "\n",
    "1) - Имеем 7 уникальных модулей или дисциплин\n",
    "\n",
    "2) - всего имеем 4 уникальных семестра\n",
    "\n",
    "3) - Каждый модуль/дисциплина изучаются 2 и более раз за период наблюдений(2 и более семестра)\n",
    "\n",
    "4) - Модули включают в себя от 6 до 14 проверочных тестов/экзаменов\n",
    "\n",
    "5) - У модулей BBB и DDD количество проверочных тестов/экзаменов в некоторых семестрах различно, у остальных повторяется\n",
    "     то есть одинаково в каждом семестре\n",
    "\n",
    "6) - Во всех модулях присутствует итоговый экзамен,а в модуле ССС 2 экзамена \n",
    "\n",
    "### Теперь проанализируем таблицу courses, и проверим ее на наличие пустых значений"
   ]
  },
  {
   "cell_type": "code",
   "execution_count": 16,
   "metadata": {},
   "outputs": [
    {
     "name": "stdout",
     "output_type": "stream",
     "text": [
      "  code_module code_presentation  module_presentation_length\n",
      "0         AAA             2013J                         268\n",
      "1         AAA             2014J                         269\n",
      "2         BBB             2013J                         268\n",
      "3         BBB             2014J                         262\n",
      "4         BBB             2013B                         240\n",
      "code_module                   0\n",
      "code_presentation             0\n",
      "module_presentation_length    0\n",
      "dtype: int64\n"
     ]
    }
   ],
   "source": [
    "print(courses.head())\n",
    "print(courses.isna().sum())"
   ]
  },
  {
   "cell_type": "markdown",
   "metadata": {},
   "source": [
    "Выводы по таблице courses:\n",
    "\n",
    "1) - В этой таблице нам интересно только поле - продолжительность дисциплины/модуля\n",
    "\n",
    "2) - Таблица содержит 22 строки и не имеет пропущенных значений\n",
    "\n",
    "3) - Для связи с таблицей assessments необходимо использовать поля code_module и code_presentation\n",
    "\n",
    "### Далее посмотрим таблицу student_assessments, и проверим ее на наличие пустых значений"
   ]
  },
  {
   "cell_type": "code",
   "execution_count": 15,
   "metadata": {},
   "outputs": [
    {
     "name": "stdout",
     "output_type": "stream",
     "text": [
      "   id_assessment  id_student  date_submitted  is_banked  score\n",
      "0           1752       11391              18          0   78.0\n",
      "1           1752       28400              22          0   70.0\n",
      "2           1752       31604              17          0   72.0\n",
      "3           1752       32885              26          0   69.0\n",
      "4           1752       38053              19          0   79.0\n",
      "id_assessment     0\n",
      "id_student        0\n",
      "date_submitted    0\n",
      "is_banked         0\n",
      "score             0\n",
      "dtype: int64\n"
     ]
    },
    {
     "data": {
      "text/plain": [
       "23369"
      ]
     },
     "execution_count": 15,
     "metadata": {},
     "output_type": "execute_result"
    }
   ],
   "source": [
    "print(student_assessments.head())\n",
    "print(student_assessments.isna().sum())"
   ]
  },
  {
   "cell_type": "markdown",
   "metadata": {},
   "source": [
    "Мы видим что поле score в 173 строках является пустым, для дальнейшего анализа примем, что отсутствие информации об оценке за\n",
    "тест/экзамен будет считаться 0(ноль), добавим информацию в таблицу"
   ]
  },
  {
   "cell_type": "code",
   "execution_count": 3,
   "metadata": {},
   "outputs": [],
   "source": [
    "student_assessments = student_assessments.fillna(0)"
   ]
  },
  {
   "cell_type": "markdown",
   "metadata": {},
   "source": [
    "Выводы по таблице student_assessments:\n",
    "\n",
    "1) На первый взгляд это самая важная таблица\n",
    "\n",
    "2) поле id_assessment является ключем для связи с таблицей assessments\n",
    "\n",
    "### Проанализируем последнюю таблицу из имеющихся исходных данных - student_reg и проверим на наличие пустых значений"
   ]
  },
  {
   "cell_type": "code",
   "execution_count": 18,
   "metadata": {},
   "outputs": [
    {
     "name": "stdout",
     "output_type": "stream",
     "text": [
      "  code_module code_presentation  id_student  date_registration  \\\n",
      "0         AAA             2013J       11391             -159.0   \n",
      "1         AAA             2013J       28400              -53.0   \n",
      "2         AAA             2013J       30268              -92.0   \n",
      "3         AAA             2013J       31604              -52.0   \n",
      "4         AAA             2013J       32885             -176.0   \n",
      "\n",
      "   date_unregistration  \n",
      "0                  NaN  \n",
      "1                  NaN  \n",
      "2                 12.0  \n",
      "3                  NaN  \n",
      "4                  NaN  \n",
      "code_module                0\n",
      "code_presentation          0\n",
      "id_student                 0\n",
      "date_registration         45\n",
      "date_unregistration    22521\n",
      "dtype: int64\n"
     ]
    }
   ],
   "source": [
    "print(student_reg.head())\n",
    "print(student_reg.isna().sum())"
   ]
  },
  {
   "cell_type": "markdown",
   "metadata": {},
   "source": [
    "У 45 студентов поле date_registration пустое, большинство из них отменило регистрацию, но есть и те, кто закончил курс\n",
    "Откорректируем таблицу, приняв дату регистрации за 0 для студетов окончивших курс, для остальных, если дата регистрации меньше\n",
    "чем 0, примем дату отмены регистрации, если больше, примем 0\n",
    "\n",
    "Для пустых значений в дате отмены регистрации ничего менять не будем\n",
    "\n",
    "Напишем вспомогательную функцию для редактирования таблицы и применим её при редактировании"
   ]
  },
  {
   "cell_type": "code",
   "execution_count": 4,
   "metadata": {},
   "outputs": [],
   "source": [
    "def true_date_reg(date_unreg):\n",
    "    if (math.isnan(date_unreg)) or (date_unreg > 0):\n",
    "        return 0\n",
    "    else:\n",
    "        return date_unreg\n",
    "    \n",
    "student_reg.date_registration = student_reg.apply(lambda x: x.date_registration \n",
    "                                                  if \n",
    "                                                  math.isnan(x.date_registration) == False \n",
    "                                                  else \n",
    "                                                  true_date_reg(x.date_unregistration), \n",
    "                                                  axis = 1)    "
   ]
  },
  {
   "cell_type": "markdown",
   "metadata": {},
   "source": [
    "Посмотрим сколько раз одни и те же студенты регистрировались на курсы, и выведем количество студентов по количеству регистраций"
   ]
  },
  {
   "cell_type": "code",
   "execution_count": 20,
   "metadata": {},
   "outputs": [
    {
     "data": {
      "text/html": [
       "<div>\n",
       "<style scoped>\n",
       "    .dataframe tbody tr th:only-of-type {\n",
       "        vertical-align: middle;\n",
       "    }\n",
       "\n",
       "    .dataframe tbody tr th {\n",
       "        vertical-align: top;\n",
       "    }\n",
       "\n",
       "    .dataframe thead th {\n",
       "        text-align: right;\n",
       "    }\n",
       "</style>\n",
       "<table border=\"1\" class=\"dataframe\">\n",
       "  <thead>\n",
       "    <tr style=\"text-align: right;\">\n",
       "      <th></th>\n",
       "      <th>date_registration</th>\n",
       "      <th>id_student</th>\n",
       "    </tr>\n",
       "  </thead>\n",
       "  <tbody>\n",
       "    <tr>\n",
       "      <th>0</th>\n",
       "      <td>1</td>\n",
       "      <td>25247</td>\n",
       "    </tr>\n",
       "    <tr>\n",
       "      <th>1</th>\n",
       "      <td>2</td>\n",
       "      <td>3293</td>\n",
       "    </tr>\n",
       "    <tr>\n",
       "      <th>2</th>\n",
       "      <td>3</td>\n",
       "      <td>221</td>\n",
       "    </tr>\n",
       "    <tr>\n",
       "      <th>3</th>\n",
       "      <td>4</td>\n",
       "      <td>23</td>\n",
       "    </tr>\n",
       "    <tr>\n",
       "      <th>4</th>\n",
       "      <td>5</td>\n",
       "      <td>1</td>\n",
       "    </tr>\n",
       "  </tbody>\n",
       "</table>\n",
       "</div>"
      ],
      "text/plain": [
       "   date_registration  id_student\n",
       "0                  1       25247\n",
       "1                  2        3293\n",
       "2                  3         221\n",
       "3                  4          23\n",
       "4                  5           1"
      ]
     },
     "execution_count": 20,
     "metadata": {},
     "output_type": "execute_result"
    }
   ],
   "source": [
    "student_reg.groupby('id_student', \n",
    "                    as_index=False) \\\n",
    "           .agg({'date_registration': 'count'}) \\\n",
    "           .sort_values('date_registration') \\\n",
    "           .groupby('date_registration', \n",
    "                    as_index=False) \\\n",
    "           .agg({'id_student': 'count'}) "
   ]
  },
  {
   "cell_type": "markdown",
   "metadata": {},
   "source": [
    "Посмотрим сколько раз одни и те же студенты отменяли регистрацию на курсы, и выведем количество студентов по количеству отмен"
   ]
  },
  {
   "cell_type": "code",
   "execution_count": 21,
   "metadata": {},
   "outputs": [
    {
     "data": {
      "text/html": [
       "<div>\n",
       "<style scoped>\n",
       "    .dataframe tbody tr th:only-of-type {\n",
       "        vertical-align: middle;\n",
       "    }\n",
       "\n",
       "    .dataframe tbody tr th {\n",
       "        vertical-align: top;\n",
       "    }\n",
       "\n",
       "    .dataframe thead th {\n",
       "        text-align: right;\n",
       "    }\n",
       "</style>\n",
       "<table border=\"1\" class=\"dataframe\">\n",
       "  <thead>\n",
       "    <tr style=\"text-align: right;\">\n",
       "      <th></th>\n",
       "      <th>date_unregistration</th>\n",
       "      <th>id_student</th>\n",
       "    </tr>\n",
       "  </thead>\n",
       "  <tbody>\n",
       "    <tr>\n",
       "      <th>0</th>\n",
       "      <td>1</td>\n",
       "      <td>8166</td>\n",
       "    </tr>\n",
       "    <tr>\n",
       "      <th>1</th>\n",
       "      <td>2</td>\n",
       "      <td>850</td>\n",
       "    </tr>\n",
       "    <tr>\n",
       "      <th>2</th>\n",
       "      <td>3</td>\n",
       "      <td>59</td>\n",
       "    </tr>\n",
       "    <tr>\n",
       "      <th>3</th>\n",
       "      <td>4</td>\n",
       "      <td>6</td>\n",
       "    </tr>\n",
       "    <tr>\n",
       "      <th>4</th>\n",
       "      <td>5</td>\n",
       "      <td>1</td>\n",
       "    </tr>\n",
       "  </tbody>\n",
       "</table>\n",
       "</div>"
      ],
      "text/plain": [
       "   date_unregistration  id_student\n",
       "0                    1        8166\n",
       "1                    2         850\n",
       "2                    3          59\n",
       "3                    4           6\n",
       "4                    5           1"
      ]
     },
     "execution_count": 21,
     "metadata": {},
     "output_type": "execute_result"
    }
   ],
   "source": [
    "student_reg[student_reg.date_unregistration.isna() == False] \\\n",
    "           .groupby('id_student',\n",
    "                    as_index = False) \\\n",
    "           .agg({'date_unregistration': 'count'}) \\\n",
    "           .sort_values('date_unregistration') \\\n",
    "           .groupby('date_unregistration',\n",
    "                    as_index = False) \\\n",
    "           .agg({'id_student': 'count'}) "
   ]
  },
  {
   "cell_type": "markdown",
   "metadata": {},
   "source": [
    "Выводы по таблице student_reg:\n",
    "\n",
    "1) Есть студенты которые более одного раза регистрируются на курсы\n",
    "\n",
    "2) В наших данных есть студенты которые несколько раз отменяют регистрацию\n",
    "\n",
    "### Объединим таблицы student_assessment и assessment для дальнейшего анализа\n",
    "\n",
    "Сгруппируем данные, чтобы понять как распределены студенты по модулям и семестрам"
   ]
  },
  {
   "cell_type": "code",
   "execution_count": 29,
   "metadata": {},
   "outputs": [
    {
     "data": {
      "text/html": [
       "<div>\n",
       "<style scoped>\n",
       "    .dataframe tbody tr th:only-of-type {\n",
       "        vertical-align: middle;\n",
       "    }\n",
       "\n",
       "    .dataframe tbody tr th {\n",
       "        vertical-align: top;\n",
       "    }\n",
       "\n",
       "    .dataframe thead th {\n",
       "        text-align: right;\n",
       "    }\n",
       "</style>\n",
       "<table border=\"1\" class=\"dataframe\">\n",
       "  <thead>\n",
       "    <tr style=\"text-align: right;\">\n",
       "      <th></th>\n",
       "      <th>number_of_modules</th>\n",
       "      <th>number_of_presentations</th>\n",
       "      <th>id_student</th>\n",
       "    </tr>\n",
       "  </thead>\n",
       "  <tbody>\n",
       "    <tr>\n",
       "      <th>0</th>\n",
       "      <td>1</td>\n",
       "      <td>1</td>\n",
       "      <td>20996</td>\n",
       "    </tr>\n",
       "    <tr>\n",
       "      <th>1</th>\n",
       "      <td>1</td>\n",
       "      <td>2</td>\n",
       "      <td>655</td>\n",
       "    </tr>\n",
       "    <tr>\n",
       "      <th>2</th>\n",
       "      <td>1</td>\n",
       "      <td>3</td>\n",
       "      <td>9</td>\n",
       "    </tr>\n",
       "    <tr>\n",
       "      <th>3</th>\n",
       "      <td>2</td>\n",
       "      <td>1</td>\n",
       "      <td>540</td>\n",
       "    </tr>\n",
       "    <tr>\n",
       "      <th>4</th>\n",
       "      <td>2</td>\n",
       "      <td>2</td>\n",
       "      <td>1114</td>\n",
       "    </tr>\n",
       "    <tr>\n",
       "      <th>5</th>\n",
       "      <td>2</td>\n",
       "      <td>3</td>\n",
       "      <td>46</td>\n",
       "    </tr>\n",
       "    <tr>\n",
       "      <th>6</th>\n",
       "      <td>3</td>\n",
       "      <td>2</td>\n",
       "      <td>4</td>\n",
       "    </tr>\n",
       "    <tr>\n",
       "      <th>7</th>\n",
       "      <td>3</td>\n",
       "      <td>3</td>\n",
       "      <td>5</td>\n",
       "    </tr>\n",
       "  </tbody>\n",
       "</table>\n",
       "</div>"
      ],
      "text/plain": [
       "   number_of_modules  number_of_presentations  id_student\n",
       "0                  1                        1       20996\n",
       "1                  1                        2         655\n",
       "2                  1                        3           9\n",
       "3                  2                        1         540\n",
       "4                  2                        2        1114\n",
       "5                  2                        3          46\n",
       "6                  3                        2           4\n",
       "7                  3                        3           5"
      ]
     },
     "execution_count": 29,
     "metadata": {},
     "output_type": "execute_result"
    }
   ],
   "source": [
    "sa = student_assessments.merge(assessments, \n",
    "                               how = 'inner', \n",
    "                               on = 'id_assessment')\n",
    "\n",
    "sa.groupby(['id_student', 'code_module', 'code_presentation'], \n",
    "           as_index = False) \\\n",
    "            .agg({'id_assessment': 'nunique'}) \\\n",
    "            .groupby(['id_student'], as_index = False) \\\n",
    "            .agg({'code_module': 'nunique', 'code_presentation': 'nunique'}) \\\n",
    "            .rename(columns={'code_module': 'number_of_modules', 'code_presentation': 'number_of_presentations'}) \\\n",
    "            .groupby(['number_of_modules', 'number_of_presentations'], as_index = False) \\\n",
    "            .agg({'id_student': 'count'})"
   ]
  },
  {
   "cell_type": "markdown",
   "metadata": {},
   "source": [
    "После анализа Исходных данных:\n",
    "\n",
    "1) Уникальные студенты сгруппированны в основном в рамках code_module и code_presentation, то есть, внутри одного семестра и одного модуля.\n",
    "\n",
    "2) В каждом новом семестре или новом модуле - id студентов фактически всегда меняется\n",
    "\n",
    "### вывод:\n",
    "\n",
    "### Курс - модуль объединяющий несколько контрольных тестов/экзаменов, заканчивается курс либо финальным экзаменом либо по совоекупному результату сдачи промежуточных тестов. Курс длиться только один семестр."
   ]
  },
  {
   "cell_type": "markdown",
   "metadata": {},
   "source": [
    "## Задание 1\n",
    "1. Сколько студентов успешно сдали только один курс? (Успешная сдача — это зачёт по курсу на экзамене) (7 баллов)\n",
    "\n",
    "Объединим в один dataframe необходимые данные"
   ]
  },
  {
   "cell_type": "code",
   "execution_count": 5,
   "metadata": {},
   "outputs": [],
   "source": [
    "sa = student_assessments.merge(assessments, \n",
    "                               how = 'inner', \n",
    "                               on = 'id_assessment')"
   ]
  },
  {
   "cell_type": "markdown",
   "metadata": {},
   "source": [
    "Исходя из из условия курс заканчивается экзаменом (assessment_type is Exam), и успешная сдача - когда студент набрал 40 баллов и более. \n",
    "Отберем студентов по этим критериям, затем, сгруппируем данные по id_student и посчитаем количество успешно завершенных курсов для каждого студента, далее отберем сдавших ровно 1 курс, посчитаем их количество и выведем на экран"
   ]
  },
  {
   "cell_type": "code",
   "execution_count": 6,
   "metadata": {},
   "outputs": [
    {
     "name": "stdout",
     "output_type": "stream",
     "text": [
      "Количество студентов успешно сдавших только один курс = 3802\n"
     ]
    }
   ],
   "source": [
    "first_query_only_exam = sa.query('(assessment_type == \"Exam\") and (score >= 40)') \\\n",
    "                          .groupby('id_student', as_index = False) \\\n",
    "                          .agg({'score': 'count'}) \\\n",
    "                          .rename(columns={'score': 'count_positive_exam'}) \\\n",
    "                          .sort_values('id_student') \\\n",
    "                          .query('count_positive_exam == 1')\n",
    "\n",
    "count_students_pass_one_exam = first_query_only_exam.id_student.count()\n",
    "\n",
    "print(f'Количество студентов успешно сдавших только один курс = {count_students_pass_one_exam}')"
   ]
  },
  {
   "cell_type": "markdown",
   "metadata": {},
   "source": [
    "## 2 задание\n",
    "Выяви самый сложный и самый простой экзамен: найди курсы и экзамены в рамках курса, которые обладают самой низкой и самой высокой завершаемостью*. (10 баллов)\n",
    "\n",
    "1 Объединим в один dataframe необходимые данные;\n",
    "\n",
    "2 добавим новое поле-маркер(сдал/не сдал) - is_passed;\n",
    "\n",
    "3 Сгруппируем данные и получим информацию о количестве сдававших и сдавших тест/экзамен;\n",
    "\n",
    "4 Добавим столбец с метрикой - процент сдаваемости finalizability;"
   ]
  },
  {
   "cell_type": "code",
   "execution_count": 7,
   "metadata": {},
   "outputs": [],
   "source": [
    "#1\n",
    "sa = student_assessments.merge(assessments, \n",
    "                               how = 'inner', \n",
    "                               on = 'id_assessment')\n",
    "#2\n",
    "sa['is_passed'] = sa.score >= 40\n",
    "\n",
    "#3\n",
    "second_query = sa.groupby(['code_module','id_assessment','assessment_type','weight','code_presentation'], \n",
    "                          as_index = False) \\\n",
    "                 .agg({'score': 'count', 'is_passed': 'sum', 'id_student': 'nunique'})\n",
    "\n",
    "4#\n",
    "second_query['finalizability'] = second_query.is_passed/second_query.score*100"
   ]
  },
  {
   "cell_type": "markdown",
   "metadata": {},
   "source": [
    "##### 5. сложный и легкий экзамен найдем фильтрацией типа проверок по эквивалентности экзамену и сортировкой по завершаемости\n",
    "\n",
    "* Ввиду того, что программа курса может отличаться в зависимости от семестра, добавим ранжирование с учетом code_presentation\n",
    "\n",
    "##### 6 сложный и легкий курс за весь период наблюдений найдем сначала группировкой по модулю с нахождением средней завершаемости внутри курса, а далее сортировкой по средней завершаемости\n",
    "\n",
    "##### 7 сложный и легкий курс с учетом семестра найдем сначала группировкой по модулю и семестру с нахождением средней завершаемости внутри курса, а далее сортировкой по средней завершаемости"
   ]
  },
  {
   "cell_type": "code",
   "execution_count": 8,
   "metadata": {},
   "outputs": [
    {
     "name": "stdout",
     "output_type": "stream",
     "text": [
      "Самый сложный курс:\n",
      "  code_module  mean_finalizability\n",
      "3         DDD            89.694054 \n",
      "\n",
      "Самый легкий курс:\n",
      "  code_module  mean_finalizability\n",
      "5         FFF            97.959303 \n",
      "\n",
      "Самый сложный курс с учетом семестра:\n",
      "   code_module code_presentation  mean_finalizability\n",
      "10         DDD             2014B            88.359792 \n",
      "\n",
      "Самый легкий курс с учетом семестра:\n",
      "  code_module code_presentation  mean_finalizability\n",
      "3         BBB             2013J            98.609947 \n",
      "\n",
      "Самый сложный экзамен:\n",
      "   code_module code_presentation  id_assessment  finalizability\n",
      "72         DDD             2013B          25340        83.72093 \n",
      "\n",
      "Самый легкий экзамен:\n",
      "   code_module code_presentation  id_assessment  finalizability\n",
      "93         DDD             2014B          25361       92.557252\n"
     ]
    }
   ],
   "source": [
    "#5.1\n",
    "hard_exam = second_query.sort_values('finalizability') \\\n",
    "                        .query('assessment_type == \"Exam\"') \\\n",
    "                        .head(1)\n",
    "\n",
    "#5.2\n",
    "easy_exam = second_query.sort_values('finalizability') \\\n",
    "                        .query('assessment_type == \"Exam\"') \\\n",
    "                        .tail(1)\n",
    "\n",
    "power_courses_pres = second_query \\\n",
    "                        .groupby(['code_module','code_presentation'], \n",
    "                                 as_index = False) \\\n",
    "                        .agg({'finalizability':'mean'}) \\\n",
    "                        .rename(columns={'finalizability':'mean_finalizability'}) \\\n",
    "                        .sort_values('mean_finalizability', \n",
    "                                     ascending = True)\n",
    "\n",
    "power_courses = second_query \\\n",
    "                        .groupby(['code_module'], \n",
    "                                 as_index = False) \\\n",
    "                        .agg({'finalizability': 'mean'}) \\\n",
    "                        .rename(columns={'finalizability': 'mean_finalizability'}) \\\n",
    "                        .sort_values('mean_finalizability', \n",
    "                                     ascending = True)\n",
    "\n",
    "#6.1\n",
    "hard_course = power_courses.head(1)\n",
    "\n",
    "#6.2\n",
    "easy_course = power_courses.tail(1)\n",
    "\n",
    "#7.1\n",
    "hard_course_pres = power_courses_pres.head(1)\n",
    "\n",
    "#7.2\n",
    "easy_course_pres = power_courses_pres.tail(1)\n",
    "\n",
    "\n",
    "print(f'Самый сложный курс:')\n",
    "print(hard_course[['code_module', 'mean_finalizability']], '\\n')\n",
    "print(f'Самый легкий курс:')\n",
    "print(easy_course[['code_module', 'mean_finalizability']], '\\n')\n",
    "\n",
    "print(f'Самый сложный курс с учетом семестра:')\n",
    "print(hard_course_pres[['code_module', 'code_presentation', 'mean_finalizability']], '\\n')\n",
    "print(f'Самый легкий курс с учетом семестра:')\n",
    "print(easy_course_pres[['code_module', 'code_presentation', 'mean_finalizability']], '\\n')\n",
    "\n",
    "print(f'Самый сложный экзамен:')\n",
    "print(hard_exam[['code_module', 'code_presentation', 'id_assessment', 'finalizability']],'\\n')\n",
    "print(f'Самый легкий экзамен:')\n",
    "print(easy_exam[['code_module', 'code_presentation', 'id_assessment', 'finalizability']])"
   ]
  },
  {
   "cell_type": "markdown",
   "metadata": {},
   "source": [
    "## 3 Задание.\n",
    "\n",
    "По каждому предмету определи средний срок сдачи экзаменов (под сдачей понимаем последнее успешное прохождение экзамена студентом). (7 баллов) \n",
    "\n",
    "1. Объединим исходные данные в общую таблицу\n",
    "\n",
    "2. Отфильтруем данные по наличию экзамена и оценке равной или более 40\n",
    "\n",
    "3. Сгруппируем данные по модулю,id экзаменов и id студентов и найдем последнюю успешную дату сдачи экзамена\n",
    "\n",
    "4. Сгруппируем данные по модулю и получим средний срок сдачи экзаменов\n",
    "\n",
    "5. Выведем результат"
   ]
  },
  {
   "cell_type": "code",
   "execution_count": 10,
   "metadata": {},
   "outputs": [
    {
     "name": "stdout",
     "output_type": "stream",
     "text": [
      "  code_module  date_submitted\n",
      "0         CCC      239.345217\n",
      "1         DDD      237.976006\n"
     ]
    }
   ],
   "source": [
    "#1\n",
    "sa = student_assessments.merge(assessments, \n",
    "                               how = 'inner', \n",
    "                               on = 'id_assessment')\n",
    "\n",
    "#2\n",
    "sa = sa.query('assessment_type == \"Exam\" and score >= 40')\n",
    "\n",
    "#3\n",
    "sa = sa.groupby(['code_module', 'id_assessment', 'id_student'], as_index = False) \\\n",
    "        .agg({'date_submitted': 'max'})\n",
    "\n",
    "#4\n",
    "mean_date_submitted = sa.groupby(['code_module'], as_index = False) \\\n",
    "        .agg({'date_submitted': 'mean'})\n",
    "\n",
    "#5\n",
    "print(mean_date_submitted)"
   ]
  },
  {
   "cell_type": "markdown",
   "metadata": {},
   "source": [
    "## 4 Задание.\n",
    "Выяви самые популярные предметы (ТОП-3) по количеству регистраций на них. А также предметы с самым большим оттоком (ТОП-3). (8 баллов)\n",
    "\n",
    "Работать будем с таблицей student_reg\n",
    "\n",
    "1. Сгруппируем данные student_reg по модулю и семестру и найдем количество уникальных студентов, данные сохраним в dataframe reg\n",
    "\n",
    "2. Отберем из student_reg только отменивших регистрацию, далее сгруппируем данные по модулю и семестру и найдем количество уникальных студентов отменивших регистрацию, данные сохраним в dataframe unreg\n",
    "\n",
    "3. Объединим reg и unreg в один dataframe date_reg_unreg\n",
    "\n",
    "4. Посчитаем отток как отношение количества отменивших регистрацию к количеству зарегистрированных в процентах\n",
    "\n",
    "5. Отберем топ 3 предмета по количеству зарегистрированных студентов с учетом семестра\n",
    "\n",
    "6. Отберем топ 3 предмета по оттоку студентов с учетом семестра\n",
    "\n",
    "7. Выведем результат"
   ]
  },
  {
   "cell_type": "code",
   "execution_count": 12,
   "metadata": {},
   "outputs": [
    {
     "name": "stdout",
     "output_type": "stream",
     "text": [
      "Топ 3 предмета по количеству регистраций:\n",
      "   code_module code_presentation  number_of_registration\n",
      "14         CCC             2014J                    2498\n",
      "3          FFF             2014J                    2365\n",
      "16         BBB             2014J                    2292 \n",
      "\n",
      "Топ 3 предмета по оттоку:\n",
      "   code_module code_presentation  outflow\n",
      "15         CCC             2014B    46.38\n",
      "14         CCC             2014J    41.99\n",
      "11         DDD             2014B    39.82 \n",
      "\n"
     ]
    }
   ],
   "source": [
    "#1\n",
    "reg = student_reg.groupby(['code_module','code_presentation'], as_index=False) \\\n",
    "            .agg({'id_student':'nunique'}) \\\n",
    "            .rename(columns={'id_student':'number_of_registration'}) \\\n",
    "            .sort_values(['code_module','code_presentation'], ascending=False)\n",
    "\n",
    "#2\n",
    "unreg = student_reg.query('date_unregistration.isna() == False') \\\n",
    "            .groupby(['code_module','code_presentation'], as_index=False) \\\n",
    "            .agg({'id_student':'nunique'}) \\\n",
    "            .rename(columns={'id_student':'number_of_unregistration'}) \\\n",
    "            .sort_values(['code_module','code_presentation'], ascending=False)\n",
    "\n",
    "#3\n",
    "data_reg_unreg = pd.merge(reg, \n",
    "                          unreg,  \n",
    "                          how='inner', \n",
    "                          left_on=['code_module','code_presentation'], \n",
    "                          right_on = ['code_module','code_presentation'])\n",
    "\n",
    "#4\n",
    "data_reg_unreg['outflow'] = round(data_reg_unreg['number_of_unregistration']/data_reg_unreg['number_of_registration']*100,2)\n",
    "\n",
    "#5\n",
    "top_3_reg = data_reg_unreg.sort_values('number_of_registration', ascending=False) \\\n",
    "                          .head(3)\n",
    "\n",
    "#6\n",
    "top_3_outflow = data_reg_unreg.sort_values('outflow', ascending=False) \\\n",
    "                              .head(3)\n",
    "\n",
    "#7.1\n",
    "print('Топ 3 предмета по количеству регистраций:')\n",
    "print(top_3_reg[['code_module','code_presentation','number_of_registration']],'\\n')\n",
    "\n",
    "#7.2\n",
    "print('Топ 3 предмета по оттоку:')\n",
    "print(top_3_outflow[['code_module','code_presentation','outflow']],'\\n')"
   ]
  },
  {
   "cell_type": "markdown",
   "metadata": {},
   "source": [
    "## Задание 5\n",
    "\n",
    "Используя pandas, в период с начала 2013 по конец 2014 выяви семестр с самой низкой завершаемостью курсов и самыми долгими средними сроками сдачи курсов (15 баллов)\n",
    "\n",
    "1. Получим необходимые данные соединив таблицы student_assessments и assessments\n",
    "\n",
    "2. Отберем только студентов сдававших экзамены и сохраним в data_only_exam\n",
    "\n",
    "3. Сгруппируем данные в data_only_exam по семестру и найдем общее количество попыток сдачи экзаменов\n",
    "\n",
    "4. Отфильтруем data_only_exam по оценкам >= 40, затем сгруппируем данные по семестру и найдем количество сдавших экзамен\n",
    "\n",
    "5. Объединим в один dataframe 3 и 4 в таблицу data_finaliz\n",
    "\n",
    "6. Добавим в data_finaliz новое поле - завершаемость(кол-во успешных экзаменов / кол-во всех попыток сдать экзамен)\n",
    "\n",
    "7. Для поиска средних сроков сдачи курсов по семестрам сгруппируем data_only_exam по модулю, семестру, экзаменам и студентам и найдем последнюю попытку сдать экзамен, далее сгруппируем по семестру и найдем средние сроки сдачи курсов\n",
    "\n",
    "8. Объединим данные из пп6 и пп7.\n",
    "\n",
    "9. Найдем семестр с самой низкой завершаемостью курсов, используя сортировку по полю 'finalizability'\n",
    "\n",
    "10. Найдем семестр с самыми долгими средними сроками сдачи курсов, используя сортировку по полю 'mean_date_submitted'\n",
    "\n",
    "11. Выведем полученные результаты на экран"
   ]
  },
  {
   "cell_type": "code",
   "execution_count": 13,
   "metadata": {},
   "outputs": [],
   "source": [
    "#1\n",
    "sa = student_assessments.merge(assessments, how='inner', on='id_assessment')"
   ]
  },
  {
   "cell_type": "code",
   "execution_count": 14,
   "metadata": {},
   "outputs": [
    {
     "name": "stdout",
     "output_type": "stream",
     "text": [
      "Cеместр с самой низкой завершаемостью курсов:\n",
      "  code_presentation  finalizability  mean_date_submitted\n",
      "0             2013B        0.837209           230.179402 \n",
      "\n",
      "Cеместр с самыми долгими средними сроками сдачи курсов:\n",
      "  code_presentation  finalizability  mean_date_submitted\n",
      "3             2014J        0.878659           243.674221\n"
     ]
    }
   ],
   "source": [
    "#2\n",
    "data_only_exam = sa.query('assessment_type==\"Exam\"')\n",
    "\n",
    "#3\n",
    "attempts = data_only_exam.groupby(['code_presentation'], as_index=False) \\\n",
    "                .agg({'weight':'count'}) \\\n",
    "                .rename(columns={'weight':'number_of_attempts'})\n",
    "\n",
    "#4\n",
    "wins = data_only_exam.query('score >= 40') \\\n",
    "                .groupby(['code_presentation'], as_index=False) \\\n",
    "                .agg({'weight':'count'}) \\\n",
    "                .rename(columns={'weight':'number_of_graduates'})\n",
    "\n",
    "#5\n",
    "data_finaliz = pd.merge(attempts, \n",
    "                        wins,  \n",
    "                        how='inner', \n",
    "                        left_on=['code_presentation'], \n",
    "                        right_on=['code_presentation'])\n",
    "\n",
    "#6\n",
    "data_finaliz['finalizability'] = data_finaliz.number_of_graduates/data_finaliz.number_of_attempts\n",
    "\n",
    "#7\n",
    "data_mean_sub = data_only_exam.groupby(['code_module','code_presentation','id_assessment','id_student'], as_index=False) \\\n",
    "                .agg({'date_submitted':'max'}) \\\n",
    "                .groupby(['code_presentation'], as_index=False) \\\n",
    "                .agg({'date_submitted':'mean'}) \\\n",
    "                .rename(columns={'date_submitted':'mean_date_submitted'})\n",
    "\n",
    "#8\n",
    "total_data = data_finaliz.merge(data_mean_sub, \n",
    "                                how='inner', \n",
    "                                on='code_presentation')\n",
    "\n",
    "#9\n",
    "min_final = total_data[['code_presentation','finalizability','mean_date_submitted']] \\\n",
    "                .sort_values('finalizability') \\\n",
    "                .head(1)\n",
    "\n",
    "#10\n",
    "max_date_sub = total_data[['code_presentation','finalizability','mean_date_submitted']] \\\n",
    "                .sort_values('mean_date_submitted', ascending=False) \\\n",
    "                .head(1)\n",
    "\n",
    "#11.1\n",
    "print('Cеместр с самой низкой завершаемостью курсов:')\n",
    "print(min_final,'\\n')\n",
    "\n",
    "#11.2\n",
    "print('Cеместр с самыми долгими средними сроками сдачи курсов:')\n",
    "print(max_date_sub)"
   ]
  },
  {
   "cell_type": "markdown",
   "metadata": {},
   "source": [
    "### Задание 6.\n",
    "\n",
    "Часто для качественного анализа аудитории использую подходы, основанные на сегментации.\n",
    "\n",
    "Используя python, построй адаптированные RFM-кластеры студентов, чтобы качественно оценить свою аудиторию.\n",
    "\n",
    "В адаптированной кластеризации можешь выбрать следующие метрики:\n",
    "\n",
    "R - среднее время сдачи одного экзамена,\n",
    "\n",
    "F - завершаемость курсов,\n",
    "\n",
    "M - среднее количество баллов, получаемое за экзамен.\n",
    "\n",
    "Подробно опиши, как ты создавал кластеры.\n",
    "\n",
    "Для каждого RFM-сегмента построй границы метрик recency, frequency и monetary для интерпретации этих кластеров."
   ]
  },
  {
   "cell_type": "markdown",
   "metadata": {},
   "source": [
    "##### 1. Объединим две таблицы для анализа student_assessments и assessments\n",
    "\n",
    "* Отберем данные для RFM-кластеризации, согласно условию задачи\n",
    "\n",
    "##### 2. Для дальнейшего анализа отфильтруем только сдачи экзаменов"
   ]
  },
  {
   "cell_type": "code",
   "execution_count": 15,
   "metadata": {},
   "outputs": [],
   "source": [
    "#1\n",
    "sa = student_assessments.merge(assessments, how='inner', on='id_assessment')\n",
    "\n",
    "#2\n",
    "data_only_exam = sa.query('assessment_type == \"Exam\"')"
   ]
  },
  {
   "cell_type": "markdown",
   "metadata": {},
   "source": [
    "#### Первая необходимая нам метрика - R - среднее время сдачи одного экзамена\n",
    "\n",
    "##### 3. Сгруппируем данные по id_student, code_module, code_presentation и id_assessment и найдем последний срок попытки сдачи экзамена\n",
    "\n",
    "* Если посмотреть на количество строк до и после группировки, мы увидим что в обоих случаях их 4959, что говорит нам: Студенты сдавали экзамен единожды по каждому курсу где он присутствует, соответственно, в исходных данных, отфильтрованных по экзамену мы понимаем что группировка по четырем вышеперечисленным полям нам ничего не изменит, поэтому исходные данные нам необходимо группировать только по студенту\n",
    "\n",
    "##### 4. Сгруппируем данные по id_student и найдем средний срок попытки сдачи экзамена студента для всех курсов, которые он изучал"
   ]
  },
  {
   "cell_type": "code",
   "execution_count": 16,
   "metadata": {},
   "outputs": [],
   "source": [
    "#3\n",
    "date_final_sub = data_only_exam.groupby(['id_student','code_module','code_presentation','id_assessment'], as_index=False) \\\n",
    "                               .agg({'date_submitted':'max'})\n",
    "\n",
    "#4\n",
    "date_mean_sub = data_only_exam.groupby(['id_student'], as_index=False) \\\n",
    "                              .agg({'date_submitted':'mean'}) \\\n",
    "                              .rename(columns={'date_submitted':'recency'})"
   ]
  },
  {
   "cell_type": "markdown",
   "metadata": {},
   "source": [
    "#### Следующая необходимая нам метрика - F - завершаемость курсов\n",
    "\n",
    "##### 5. Найдем ее принимая во внимание вышеполученную информацию, добавим к фильтрованным по экзамену данным новое поле is_pass - прошел студент текущий курс или нет(score>=40)\n",
    "\n",
    "##### 6. Сгруппируем данные по id_student и найдем сколько курсов завершил каждый студент"
   ]
  },
  {
   "cell_type": "code",
   "execution_count": 17,
   "metadata": {},
   "outputs": [
    {
     "name": "stderr",
     "output_type": "stream",
     "text": [
      "/opt/tljh/user/lib/python3.7/site-packages/ipykernel_launcher.py:2: SettingWithCopyWarning: \n",
      "A value is trying to be set on a copy of a slice from a DataFrame.\n",
      "Try using .loc[row_indexer,col_indexer] = value instead\n",
      "\n",
      "See the caveats in the documentation: https://pandas.pydata.org/pandas-docs/stable/user_guide/indexing.html#returning-a-view-versus-a-copy\n",
      "  \n"
     ]
    }
   ],
   "source": [
    "#5\n",
    "data_only_exam['is_pass'] = data_only_exam.score>=40\n",
    "\n",
    "#6\n",
    "number_of_pass = data_only_exam.groupby(['id_student'], as_index=False) \\\n",
    "                               .agg({'is_pass':'sum'}) \\\n",
    "                               .rename(columns={'is_pass':'frequency'})"
   ]
  },
  {
   "cell_type": "markdown",
   "metadata": {},
   "source": [
    "#### Последняя необходимая нам метрика - M - среднее количество баллов, получаемое за экзамен\n",
    "\n",
    "##### 7. Сгруппируем данные по id_student и найдем средний балл"
   ]
  },
  {
   "cell_type": "code",
   "execution_count": 18,
   "metadata": {},
   "outputs": [],
   "source": [
    "#7\n",
    "m_score = data_only_exam.groupby(['id_student'], as_index=False) \\\n",
    "               .agg({'score':'mean'}) \\\n",
    "               .rename(columns={'score':'monetary'})"
   ]
  },
  {
   "cell_type": "markdown",
   "metadata": {},
   "source": [
    "#### Объединим полученные метрики в общую таблицу\n",
    "\n",
    "##### 8. Сначала объединим первые две метрики, затем добавим третью"
   ]
  },
  {
   "cell_type": "code",
   "execution_count": 19,
   "metadata": {},
   "outputs": [],
   "source": [
    "#8\n",
    "data_rfm = pd.merge(date_mean_sub, \n",
    "                        number_of_pass,  \n",
    "                        how='inner', \n",
    "                        left_on=['id_student'], \n",
    "                        right_on = ['id_student'])\n",
    "\n",
    "data_rfm = data_rfm.merge(m_score,  \n",
    "                        how='inner', \n",
    "                        on='id_student')"
   ]
  },
  {
   "cell_type": "markdown",
   "metadata": {},
   "source": [
    "#### Напишем функции для RFM-сегментации наших данных\n",
    "\n",
    "##### 9. Назначим разбивку на 2 группы по средним срокам сдачи (метрика R), в качестве среднего возьмем 238 дней с начала семестра(среднее = 238.46):\n",
    "\n",
    "*1 группа - средний срок сдачи меньше 238\n",
    "\n",
    "*2 группа - средний срок сдачи больше 238 \n",
    "\n",
    "##### 10. разбивка frequency(завершаемость курсов) говорит нам о том, что большинство студентов заканчивают один курс, назначим разбивку на 3 группы:\n",
    "\n",
    "*1 группа - не завершили ни одного курса\n",
    "\n",
    "*2 группа - завершили 1 курс\n",
    "\n",
    "*3 группа - завершили 2 курса\n",
    "\n",
    "##### 11. Разбивка monetary(средний балл за экзамен/тест) на 4 группы по возрастанию среднего балла:\n",
    "\n",
    "*1 группа - меньше 40 баллов (не сдал)\n",
    "\n",
    "*2 группа - от 40 до 65 баллов (норма)\n",
    "\n",
    "*3 группа - от 65 до 80 балла (хорошо)\n",
    "\n",
    "*4 группа - более 80 баллов (отлично)\n",
    "\n",
    "##### 12. Добавим разбивку по группам в общие данные\n",
    "\n",
    "##### 13. Соберем данные в комплексный RFM-балл"
   ]
  },
  {
   "cell_type": "code",
   "execution_count": 20,
   "metadata": {},
   "outputs": [],
   "source": [
    "#9\n",
    "def r_group(x):\n",
    "    if x<=238:\n",
    "        return 2\n",
    "    else:\n",
    "        return 1\n",
    "    \n",
    "#10\n",
    "def f_group(x):\n",
    "    if x==0:\n",
    "        return 1\n",
    "    elif x==1:\n",
    "        return 2\n",
    "    else:\n",
    "        return 3\n",
    "\n",
    "#11    \n",
    "def m_group(x):\n",
    "    if x<40:\n",
    "        return 1\n",
    "    elif x>=40 and x<65:\n",
    "        return 2\n",
    "    elif x>=65 and x<80:\n",
    "        return 3\n",
    "    else:\n",
    "        return 4\n",
    "    \n",
    "#12.1\n",
    "data_rfm['r_score'] = data_rfm.apply(lambda x: r_group(x.recency), \n",
    "                                     axis=1)\n",
    "#12.2\n",
    "data_rfm['f_score'] = data_rfm.apply(lambda x: f_group(x.frequency), \n",
    "                                     axis=1)\n",
    "#12.3\n",
    "data_rfm['m_score'] = data_rfm.apply(lambda x: m_group(x.monetary), \n",
    "                                     axis=1)\n",
    "\n",
    "#13\n",
    "data_rfm['rfm_score'] = data_rfm.apply(lambda x: int(x.r_score*100 + x.f_score*10 + x.m_score), \n",
    "                                       axis=1)  "
   ]
  },
  {
   "cell_type": "markdown",
   "metadata": {},
   "source": [
    "##### 14. Сегментируем студентов по общему RFM-баллу и запишем данные в словарь\n",
    "\n",
    "* Укрупненная сегментация:\n",
    "1. Незавершившие курс\n",
    "\n",
    "2. Завершившие один курс делятся на студентов со средним сроком сдачи ниже среднего(Late) и выше среднего, а также в зависимости от среднего бала(less than normal, Normal, Good, Excellent)\n",
    "\n",
    "3. Завершившие 2 курса (добавляем Double) делятся на студентов со средним сроком сдачи ниже среднего(Late) и выше среднего, а также в зависимости от среднего бала(less than normal, Normal, Good, Super Hero)\n",
    "\n",
    "##### 15. Добавим новое поле с именованной сегментацией в наши данные\n",
    "\n",
    "##### 16. Сгруппируем итоговую таблицу по именованным сегментам и получим количество студентов по каждой группе"
   ]
  },
  {
   "cell_type": "code",
   "execution_count": 21,
   "metadata": {},
   "outputs": [],
   "source": [
    "#14\n",
    "dict_with_segment = {\n",
    "    111:'Unfinished',\n",
    "    211:'Unfinished',\n",
    "    121:'Late, less than normal',\n",
    "    122:'Late, Normal',\n",
    "    123:'Late, Good',\n",
    "    124:'Late, Excellent',\n",
    "    132:'Late, double Normal',\n",
    "    133:'Late, double Good',\n",
    "    134:'Late, double Excellent',\n",
    "    221:'Less than Normal',\n",
    "    222:'Normal',\n",
    "    223:'Good',\n",
    "    224:'Excellent',\n",
    "    232:'Double Normal',\n",
    "    233:'Double Good',\n",
    "    234:'Super Hero'}\n",
    "\n",
    "#15\n",
    "data_rfm['segment'] = data_rfm.apply(lambda x: dict_with_segment.get(x.rfm_score), \n",
    "                                     axis=1)\n",
    "\n",
    "#16\n",
    "group_for_segment_rfm = data_rfm \\\n",
    "        .groupby('segment', as_index=False) \\\n",
    "        .agg({'id_student':'count'}) \\\n",
    "        .rename(columns={'id_student':'count_students'}) \\\n",
    "        .sort_values('count_students')"
   ]
  },
  {
   "cell_type": "markdown",
   "metadata": {},
   "source": [
    "##### 17. Построим граффики для визуализации результата"
   ]
  },
  {
   "cell_type": "code",
   "execution_count": 22,
   "metadata": {},
   "outputs": [
    {
     "data": {
      "text/plain": [
       "[Text(0, 0, 'Less than Normal'),\n",
       " Text(0, 0, 'Late, less than normal'),\n",
       " Text(0, 0, 'Double Normal'),\n",
       " Text(0, 0, 'Double Good'),\n",
       " Text(0, 0, 'Super Hero'),\n",
       " Text(0, 0, 'Late, double Good'),\n",
       " Text(0, 0, 'Late, double Normal'),\n",
       " Text(0, 0, 'Late, double Excellent'),\n",
       " Text(0, 0, 'Good'),\n",
       " Text(0, 0, 'Late, Good'),\n",
       " Text(0, 0, 'Excellent'),\n",
       " Text(0, 0, 'Unfinished'),\n",
       " Text(0, 0, 'Late, Excellent'),\n",
       " Text(0, 0, 'Normal'),\n",
       " Text(0, 0, 'Late, Normal')]"
      ]
     },
     "execution_count": 22,
     "metadata": {},
     "output_type": "execute_result"
    },
    {
     "data": {
      "image/png": "[encoded data removed]",
      "text/plain": [
       "<Figure size 842.4x595.44 with 1 Axes>"
      ]
     },
     "metadata": {},
     "output_type": "display_data"
    }
   ],
   "source": [
    "#17\n",
    "\n",
    "#Зададим размер граффика\n",
    "sns.set(rc={'figure.figsize':(11.7,8.27)})\n",
    "\n",
    "#Создадим граффик\n",
    "group_for_segment_rfm_barplot = sns.barplot(data=group_for_segment_rfm.sort_values('count_students'), \n",
    "                                            x='segment', \n",
    "                                            y='count_students', \n",
    "                                            palette='Blues')\n",
    "\n",
    "#Добавим подписи оси х\n",
    "group_for_segment_rfm_barplot.set_xticklabels(group_for_segment_rfm.segment, \n",
    "                                              rotation=90)"
   ]
  }
 ],
 "metadata": {
  "kernelspec": {
   "display_name": "Python 3",
   "language": "python",
   "name": "python3"
  },
  "language_info": {
   "codemirror_mode": {
    "name": "ipython",
    "version": 3
   },
   "file_extension": ".py",
   "mimetype": "text/x-python",
   "name": "python",
   "nbconvert_exporter": "python",
   "pygments_lexer": "ipython3",
   "version": "3.7.3"
  }
 },
 "nbformat": 4,
 "nbformat_minor": 4
}
